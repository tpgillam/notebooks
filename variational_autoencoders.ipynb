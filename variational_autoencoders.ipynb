{
 "cells": [
  {
   "cell_type": "markdown",
   "metadata": {},
   "source": [
    "# Variational autoencoders\n",
    "Some experiments into using them to approximate distributions with few samples."
   ]
  },
  {
   "cell_type": "code",
   "execution_count": 1,
   "metadata": {},
   "outputs": [
    {
     "name": "stderr",
     "output_type": "stream",
     "text": [
      "Using TensorFlow backend.\n"
     ]
    },
    {
     "name": "stdout",
     "output_type": "stream",
     "text": [
      "<pypuffin.keras.variational_autoencoder.SimpleDenseVAE object at 0x10c2b1208>\n"
     ]
    }
   ],
   "source": [
    "%matplotlib inline\n",
    "%config InlineBackend.figure_format = 'retina'\n",
    "\n",
    "from pypuffin.keras.layers import VariationalMSE\n",
    "from pypuffin.keras.variational_autoencoder import SimpleDenseVAE\n",
    "\n",
    "# A VAE with some dense layers & relu activation, targetting something using an MSE model loss.\n",
    "# It has a two-dimensional latent variable space\n",
    "simple_vae = SimpleDenseVAE(3, 128, 'relu', None, VariationalMSE, 2)\n",
    "print(simple_vae)"
   ]
  }
 ],
 "metadata": {
  "kernelspec": {
   "display_name": "Python 3",
   "language": "python",
   "name": "python3"
  },
  "language_info": {
   "codemirror_mode": {
    "name": "ipython",
    "version": 3
   },
   "file_extension": ".py",
   "mimetype": "text/x-python",
   "name": "python",
   "nbconvert_exporter": "python",
   "pygments_lexer": "ipython3",
   "version": "3.6.2"
  }
 },
 "nbformat": 4,
 "nbformat_minor": 2
}
