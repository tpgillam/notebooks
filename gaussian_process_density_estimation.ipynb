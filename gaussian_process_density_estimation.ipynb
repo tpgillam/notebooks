{
 "cells": [
  {
   "cell_type": "markdown",
   "metadata": {},
   "source": [
    "Interested in methods which allow for priors over large space, and particularly those which allow the density to approach close to / exactly zero.\n",
    "\n",
    "GPDS: https://arxiv.org/pdf/0912.4896.pdf  \n",
    "http://www2.stat.duke.edu/~st118/Publication/Tokdar_LogGauss.pdf  :  section 6.1"
   ]
  }
 ],
 "metadata": {
  "kernelspec": {
   "display_name": "Python 3",
   "language": "python",
   "name": "python3"
  },
  "language_info": {
   "codemirror_mode": {
    "name": "ipython",
    "version": 3
   },
   "file_extension": ".py",
   "mimetype": "text/x-python",
   "name": "python",
   "nbconvert_exporter": "python",
   "pygments_lexer": "ipython3",
   "version": "3.6.2"
  }
 },
 "nbformat": 4,
 "nbformat_minor": 2
}
